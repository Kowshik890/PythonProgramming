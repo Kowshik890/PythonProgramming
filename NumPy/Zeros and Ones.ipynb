{
 "cells": [
  {
   "cell_type": "markdown",
   "metadata": {},
   "source": [
    "Problem Name: Zeros and Ones\n",
    "\n",
    "Link: https://www.hackerrank.com/challenges/np-zeros-and-ones/problem\n",
    "\n",
    "Solution:"
   ]
  },
  {
   "cell_type": "code",
   "execution_count": null,
   "metadata": {},
   "outputs": [],
   "source": [
    "import numpy\n",
    "\n",
    "arr = tuple(map(int, input().split()))\n",
    "print(numpy.zeros((arr), dtype = numpy.int))\n",
    "print(numpy.ones((arr), dtype = numpy.int))\n"
   ]
  }
 ],
 "metadata": {
  "kernelspec": {
   "display_name": "Python 3",
   "language": "python",
   "name": "python3"
  },
  "language_info": {
   "codemirror_mode": {
    "name": "ipython",
    "version": 3
   },
   "file_extension": ".py",
   "mimetype": "text/x-python",
   "name": "python",
   "nbconvert_exporter": "python",
   "pygments_lexer": "ipython3",
   "version": "3.8.3"
  }
 },
 "nbformat": 4,
 "nbformat_minor": 4
}
