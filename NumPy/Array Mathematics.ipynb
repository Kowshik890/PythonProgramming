{
 "cells": [
  {
   "cell_type": "markdown",
   "metadata": {},
   "source": [
    "Problem Name: Array Mathematics\n",
    "\n",
    "Link: https://www.hackerrank.com/challenges/np-array-mathematics/problem\n",
    "\n",
    "Solution:"
   ]
  },
  {
   "cell_type": "code",
   "execution_count": null,
   "metadata": {},
   "outputs": [
    {
     "name": "stdout",
     "output_type": "stream",
     "text": [
      "1 4\n",
      "[[0 0 0 0]]\n"
     ]
    }
   ],
   "source": [
    "import numpy\n",
    "\n",
    "n, m = map(int, input().split())\n",
    "A=numpy.zeros((n,m),int)\n",
    "B=numpy.zeros((n,m),int)\n",
    "for i in range(n):\n",
    "    A[i] = numpy.array(input().split(), int)\n",
    "for i in range(n):\n",
    "    B[i] = numpy.array(input().split(), int)\n",
    "print(numpy.add(A, B))\n",
    "print(numpy.subtract(A, B))\n",
    "print(numpy.multiply(A, B))\n",
    "print(numpy.floor_divide(A, B))\n",
    "print(numpy.mod(A, B))\n",
    "print(numpy.power(A, B))\n"
   ]
  }
 ],
 "metadata": {
  "kernelspec": {
   "display_name": "Python 3",
   "language": "python",
   "name": "python3"
  },
  "language_info": {
   "codemirror_mode": {
    "name": "ipython",
    "version": 3
   },
   "file_extension": ".py",
   "mimetype": "text/x-python",
   "name": "python",
   "nbconvert_exporter": "python",
   "pygments_lexer": "ipython3",
   "version": "3.8.3"
  }
 },
 "nbformat": 4,
 "nbformat_minor": 4
}
