{
 "cells": [
  {
   "cell_type": "markdown",
   "metadata": {},
   "source": [
    "Problem Name: Sum and Prod\n",
    "\n",
    "Link: https://www.hackerrank.com/challenges/np-sum-and-prod/problem\n",
    "\n",
    "Solution:"
   ]
  },
  {
   "cell_type": "code",
   "execution_count": 4,
   "metadata": {},
   "outputs": [
    {
     "name": "stdout",
     "output_type": "stream",
     "text": [
      "2 2\n",
      "1 2\n",
      "3 4\n",
      "24\n"
     ]
    }
   ],
   "source": [
    "import numpy\n",
    "\n",
    "arr = []\n",
    "n, m = (map(int, input().split()))\n",
    "for i in range(n):\n",
    "    arr.append(input().split())\n",
    "arr = numpy.array(arr, int)\n",
    "print(numpy.prod(numpy.sum(arr, axis = 0)))"
   ]
  }
 ],
 "metadata": {
  "kernelspec": {
   "display_name": "Python 3",
   "language": "python",
   "name": "python3"
  },
  "language_info": {
   "codemirror_mode": {
    "name": "ipython",
    "version": 3
   },
   "file_extension": ".py",
   "mimetype": "text/x-python",
   "name": "python",
   "nbconvert_exporter": "python",
   "pygments_lexer": "ipython3",
   "version": "3.8.3"
  }
 },
 "nbformat": 4,
 "nbformat_minor": 4
}
