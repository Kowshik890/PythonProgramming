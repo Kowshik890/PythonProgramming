{
 "cells": [
  {
   "cell_type": "markdown",
   "metadata": {},
   "source": [
    "Problem Name: Concatenate\n",
    "\n",
    "Link: https://www.hackerrank.com/challenges/np-concatenate/problem\n",
    "\n",
    "Solution:"
   ]
  },
  {
   "cell_type": "code",
   "execution_count": null,
   "metadata": {},
   "outputs": [],
   "source": [
    "import numpy\n",
    "\n",
    "arr1 = []\n",
    "arr2 = []\n",
    "n, m, p = map(int, input().split())\n",
    "for i in range(n):\n",
    "    arr1.append(input().split())\n",
    "arr1 = numpy.array(arr1, int)\n",
    "for i in range(m):\n",
    "    arr2.append(input().split())\n",
    "arr2 = numpy.array(arr2, int)\n",
    "print(numpy.concatenate((arr1, arr2)))"
   ]
  }
 ],
 "metadata": {
  "kernelspec": {
   "display_name": "Python 3",
   "language": "python",
   "name": "python3"
  },
  "language_info": {
   "codemirror_mode": {
    "name": "ipython",
    "version": 3
   },
   "file_extension": ".py",
   "mimetype": "text/x-python",
   "name": "python",
   "nbconvert_exporter": "python",
   "pygments_lexer": "ipython3",
   "version": "3.8.3"
  }
 },
 "nbformat": 4,
 "nbformat_minor": 4
}
