{
 "cells": [
  {
   "cell_type": "markdown",
   "metadata": {},
   "source": [
    "Problem Name: Dot and Cross\n",
    "\n",
    "Link: https://www.hackerrank.com/challenges/np-dot-and-cross/problem\n",
    "\n",
    "Solution:"
   ]
  },
  {
   "cell_type": "code",
   "execution_count": 5,
   "metadata": {},
   "outputs": [
    {
     "name": "stdout",
     "output_type": "stream",
     "text": [
      "2\n",
      "1 2\n",
      "3 4\n",
      "1 2\n",
      "3 4\n",
      "[[ 7 10]\n",
      " [15 22]]\n"
     ]
    }
   ],
   "source": [
    "import numpy\n",
    "\n",
    "arrA = []\n",
    "arrB = []\n",
    "n = int(input())\n",
    "for i in range(n):\n",
    "    arrA.append(list(map(int, input().split())))\n",
    "for j in range(n):\n",
    "    arrB.append(list(map(int, input().split())))\n",
    "arrA = numpy.array(arrA)\n",
    "arrB = numpy.array(arrB)\n",
    "print(numpy.matmul(arrA, arrB))"
   ]
  }
 ],
 "metadata": {
  "kernelspec": {
   "display_name": "Python 3",
   "language": "python",
   "name": "python3"
  },
  "language_info": {
   "codemirror_mode": {
    "name": "ipython",
    "version": 3
   },
   "file_extension": ".py",
   "mimetype": "text/x-python",
   "name": "python",
   "nbconvert_exporter": "python",
   "pygments_lexer": "ipython3",
   "version": "3.8.3"
  }
 },
 "nbformat": 4,
 "nbformat_minor": 4
}
